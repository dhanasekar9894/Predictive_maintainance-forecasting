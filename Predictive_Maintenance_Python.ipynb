{
 "cells": [
  {
   "cell_type": "code",
   "execution_count": 9,
   "metadata": {},
   "outputs": [],
   "source": [
    "import pandas as pd\n",
    "import numpy as np\n",
    "import seaborn as sns\n",
    "import matplotlib.pyplot as plt\n",
    "from sklearn.metrics import r2_score\n",
    "from sklearn.model_selection import train_test_split\n",
    "from sklearn.ensemble import RandomForestRegressor\n",
    "from sklearn.metrics import mean_squared_error\n",
    "import pickle"
   ]
  },
  {
   "cell_type": "code",
   "execution_count": 10,
   "metadata": {},
   "outputs": [
    {
     "data": {
      "text/html": [
       "<div>\n",
       "<style scoped>\n",
       "    .dataframe tbody tr th:only-of-type {\n",
       "        vertical-align: middle;\n",
       "    }\n",
       "\n",
       "    .dataframe tbody tr th {\n",
       "        vertical-align: top;\n",
       "    }\n",
       "\n",
       "    .dataframe thead th {\n",
       "        text-align: right;\n",
       "    }\n",
       "</style>\n",
       "<table border=\"1\" class=\"dataframe\">\n",
       "  <thead>\n",
       "    <tr style=\"text-align: right;\">\n",
       "      <th></th>\n",
       "      <th>id</th>\n",
       "      <th>date</th>\n",
       "      <th>scanner</th>\n",
       "      <th>min</th>\n",
       "      <th>max</th>\n",
       "      <th>err</th>\n",
       "      <th>pixels</th>\n",
       "      <th>minf</th>\n",
       "      <th>maxf</th>\n",
       "      <th>errf</th>\n",
       "      <th>created_at</th>\n",
       "      <th>updated_at</th>\n",
       "    </tr>\n",
       "  </thead>\n",
       "  <tbody>\n",
       "    <tr>\n",
       "      <th>0</th>\n",
       "      <td>12</td>\n",
       "      <td>2017-12-17</td>\n",
       "      <td>K219</td>\n",
       "      <td>35435</td>\n",
       "      <td>35933</td>\n",
       "      <td>1.40</td>\n",
       "      <td>6</td>\n",
       "      <td>35681</td>\n",
       "      <td>35688</td>\n",
       "      <td>0.02</td>\n",
       "      <td>NaN</td>\n",
       "      <td>2017-12-29 16:26:16.475205</td>\n",
       "    </tr>\n",
       "    <tr>\n",
       "      <th>1</th>\n",
       "      <td>30</td>\n",
       "      <td>2017-12-18</td>\n",
       "      <td>H161</td>\n",
       "      <td>35155</td>\n",
       "      <td>36382</td>\n",
       "      <td>3.43</td>\n",
       "      <td>14</td>\n",
       "      <td>35731</td>\n",
       "      <td>35761</td>\n",
       "      <td>0.08</td>\n",
       "      <td>NaN</td>\n",
       "      <td>2017-12-29 16:26:16.872783</td>\n",
       "    </tr>\n",
       "    <tr>\n",
       "      <th>2</th>\n",
       "      <td>47</td>\n",
       "      <td>2017-12-18</td>\n",
       "      <td>K211</td>\n",
       "      <td>35305</td>\n",
       "      <td>36042</td>\n",
       "      <td>2.07</td>\n",
       "      <td>43</td>\n",
       "      <td>35692</td>\n",
       "      <td>35739</td>\n",
       "      <td>0.13</td>\n",
       "      <td>NaN</td>\n",
       "      <td>2017-12-19 18:10:57.453846</td>\n",
       "    </tr>\n",
       "    <tr>\n",
       "      <th>3</th>\n",
       "      <td>48</td>\n",
       "      <td>2017-12-18</td>\n",
       "      <td>K212</td>\n",
       "      <td>35216</td>\n",
       "      <td>36225</td>\n",
       "      <td>2.82</td>\n",
       "      <td>61</td>\n",
       "      <td>35686</td>\n",
       "      <td>35726</td>\n",
       "      <td>0.11</td>\n",
       "      <td>NaN</td>\n",
       "      <td>2017-12-19 18:10:57.45983</td>\n",
       "    </tr>\n",
       "    <tr>\n",
       "      <th>4</th>\n",
       "      <td>49</td>\n",
       "      <td>2017-12-18</td>\n",
       "      <td>K220</td>\n",
       "      <td>35196</td>\n",
       "      <td>36259</td>\n",
       "      <td>2.98</td>\n",
       "      <td>11</td>\n",
       "      <td>35709</td>\n",
       "      <td>35724</td>\n",
       "      <td>0.04</td>\n",
       "      <td>NaN</td>\n",
       "      <td>2017-12-19 18:10:57.464388</td>\n",
       "    </tr>\n",
       "  </tbody>\n",
       "</table>\n",
       "</div>"
      ],
      "text/plain": [
       "   id        date scanner    min    max   err  pixels   minf   maxf  errf  \\\n",
       "0  12  2017-12-17    K219  35435  35933  1.40       6  35681  35688  0.02   \n",
       "1  30  2017-12-18    H161  35155  36382  3.43      14  35731  35761  0.08   \n",
       "2  47  2017-12-18    K211  35305  36042  2.07      43  35692  35739  0.13   \n",
       "3  48  2017-12-18    K212  35216  36225  2.82      61  35686  35726  0.11   \n",
       "4  49  2017-12-18    K220  35196  36259  2.98      11  35709  35724  0.04   \n",
       "\n",
       "   created_at                  updated_at  \n",
       "0         NaN  2017-12-29 16:26:16.475205  \n",
       "1         NaN  2017-12-29 16:26:16.872783  \n",
       "2         NaN  2017-12-19 18:10:57.453846  \n",
       "3         NaN   2017-12-19 18:10:57.45983  \n",
       "4         NaN  2017-12-19 18:10:57.464388  "
      ]
     },
     "execution_count": 10,
     "metadata": {},
     "output_type": "execute_result"
    }
   ],
   "source": [
    "df = pd.read_csv(\"encoders.csv\")\n",
    "df.head()"
   ]
  },
  {
   "cell_type": "code",
   "execution_count": null,
   "metadata": {},
   "outputs": [],
   "source": []
  },
  {
   "cell_type": "code",
   "execution_count": 11,
   "metadata": {
    "id": "ktzgoTdjgxky"
   },
   "outputs": [],
   "source": [
    "\n",
    "df[[\"difference\"]]= df[['err']].apply(lambda x: x-12)\n",
    "\n",
    "df.drop(labels=[\"created_at\",\"minf\",\"maxf\",\"errf\"],inplace=True,axis=\"columns\")\n",
    "\n",
    "\n",
    "df.at[304, 'min'] = 33509\n",
    "df.at[1553, 'updated_at'] = '2018-01-25 23:23:40.893050' \n",
    "df.at[586, 'updated_at'] = '2018-01-04 12:38:43.729483' \n",
    "df.at[601, 'updated_at'] = '2018-01-04 12:38:43.729483'\n",
    "\n",
    "\n",
    "df['date'] = pd.to_datetime(df['date'])\n",
    "df['updated_at'] = pd.to_datetime(df['updated_at'])\n",
    "\n",
    "df['days_diff'] = df['updated_at'] - df['date']\n",
    "\n",
    "df['days_diff'] = df.days_diff.astype('object')\n",
    "\n",
    "df['days_diff'] = df[\"days_diff\"].apply(lambda x:str(x)[:2])\n",
    "\n",
    "df = df.apply(lambda x:x.replace(-0.0,np.NaN))\n",
    "df = df.apply(lambda x:x.replace(-1,np.NaN))\n",
    "df = df.apply(lambda x:x.replace('Na',np.NaN))\n",
    "df = df.apply(lambda x:x.replace('NaT',np.NaN))\n",
    "\n",
    "df.dropna(axis=\"rows\",inplace=True)\n",
    "\n",
    "\n",
    "df['days_diff'] = df[\"days_diff\"].astype('int64')\n",
    "\n",
    "\n",
    "def sur_cal_new(x):\n",
    "  \n",
    "    if x > -2:\n",
    "      return 4\n",
    "\n",
    "    elif -2 >= x and x >= -4:\n",
    "      return 8\n",
    "\n",
    "    elif -4 >= x >= -6 :\n",
    "      return 20\n",
    "\n",
    "    elif -6 >= x >= -8:\n",
    "      return 28\n",
    "\n",
    "    elif -8 >= x >=-10 :\n",
    "      return 35\n",
    "\n",
    "    elif -10 >= x >=-12 :\n",
    "      return 38\n",
    "\n",
    "    elif -12 >= x >=-14 :\n",
    "      return 42\n",
    "\n",
    "    else:\n",
    "      return 0\n",
    "\n"
   ]
  },
  {
   "cell_type": "code",
   "execution_count": 14,
   "metadata": {},
   "outputs": [],
   "source": [
    "df[\"survival\"] = df[\"difference\"].apply(lambda x: sur_cal_new(x))\n",
    "\n",
    "\n",
    "#df.at[[304, 586, 601, 1446, 1512, 1553, 1766, 1771],'survival'] = (df[df['difference']>0]['days_diff'].values) *  -1\n",
    "\n",
    "# Calculate the values to be assigned\n",
    "values_to_assign = (df[df['difference'] > 0]['days_diff'].values) * -1\n",
    "\n",
    "# Identify the indices where you want to assign these values\n",
    "indices_to_assign = [304, 586, 601, 1446, 1512, 1553, 1766, 1771]\n",
    "\n",
    "# Assign values using boolean indexing\n",
    "df.loc[indices_to_assign, 'survival'] = values_to_assign"
   ]
  },
  {
   "cell_type": "code",
   "execution_count": 17,
   "metadata": {},
   "outputs": [
    {
     "data": {
      "text/html": [
       "<div>\n",
       "<style scoped>\n",
       "    .dataframe tbody tr th:only-of-type {\n",
       "        vertical-align: middle;\n",
       "    }\n",
       "\n",
       "    .dataframe tbody tr th {\n",
       "        vertical-align: top;\n",
       "    }\n",
       "\n",
       "    .dataframe thead th {\n",
       "        text-align: right;\n",
       "    }\n",
       "</style>\n",
       "<table border=\"1\" class=\"dataframe\">\n",
       "  <thead>\n",
       "    <tr style=\"text-align: right;\">\n",
       "      <th></th>\n",
       "      <th>min</th>\n",
       "      <th>max</th>\n",
       "      <th>err</th>\n",
       "      <th>pixels</th>\n",
       "      <th>survival</th>\n",
       "    </tr>\n",
       "  </thead>\n",
       "  <tbody>\n",
       "    <tr>\n",
       "      <th>0</th>\n",
       "      <td>35435.0</td>\n",
       "      <td>35933.0</td>\n",
       "      <td>1.40</td>\n",
       "      <td>6.0</td>\n",
       "      <td>38</td>\n",
       "    </tr>\n",
       "    <tr>\n",
       "      <th>1</th>\n",
       "      <td>35155.0</td>\n",
       "      <td>36382.0</td>\n",
       "      <td>3.43</td>\n",
       "      <td>14.0</td>\n",
       "      <td>35</td>\n",
       "    </tr>\n",
       "    <tr>\n",
       "      <th>2</th>\n",
       "      <td>35305.0</td>\n",
       "      <td>36042.0</td>\n",
       "      <td>2.07</td>\n",
       "      <td>43.0</td>\n",
       "      <td>35</td>\n",
       "    </tr>\n",
       "    <tr>\n",
       "      <th>3</th>\n",
       "      <td>35216.0</td>\n",
       "      <td>36225.0</td>\n",
       "      <td>2.82</td>\n",
       "      <td>61.0</td>\n",
       "      <td>35</td>\n",
       "    </tr>\n",
       "    <tr>\n",
       "      <th>4</th>\n",
       "      <td>35196.0</td>\n",
       "      <td>36259.0</td>\n",
       "      <td>2.98</td>\n",
       "      <td>11.0</td>\n",
       "      <td>35</td>\n",
       "    </tr>\n",
       "  </tbody>\n",
       "</table>\n",
       "</div>"
      ],
      "text/plain": [
       "       min      max   err  pixels  survival\n",
       "0  35435.0  35933.0  1.40     6.0        38\n",
       "1  35155.0  36382.0  3.43    14.0        35\n",
       "2  35305.0  36042.0  2.07    43.0        35\n",
       "3  35216.0  36225.0  2.82    61.0        35\n",
       "4  35196.0  36259.0  2.98    11.0        35"
      ]
     },
     "execution_count": 17,
     "metadata": {},
     "output_type": "execute_result"
    }
   ],
   "source": [
    "df.head()"
   ]
  },
  {
   "cell_type": "code",
   "execution_count": 22,
   "metadata": {},
   "outputs": [
    {
     "name": "stdout",
     "output_type": "stream",
     "text": [
      "[35.   35.   35.   35.   35.   35.   38.   35.   35.   35.   35.   38.\n",
      " 20.   35.   38.   38.   35.   35.   35.   35.   20.   38.   38.   38.\n",
      " 38.   28.    8.   35.   35.   35.   35.   38.   38.   35.   38.   35.\n",
      " 35.   35.   35.   35.   35.   35.   38.   38.   38.   35.   35.   35.\n",
      " 35.   35.   38.   28.   38.   35.   35.   35.   35.   35.   38.   38.\n",
      " 35.   38.   35.   35.   38.   38.   35.   35.   28.   35.   35.   35.\n",
      " 35.   35.   38.   35.   28.   38.   35.   35.   35.   35.   38.   35.\n",
      " 28.   38.   28.   -5.9  35.   35.   35.   38.   35.   35.   35.   38.\n",
      " 35.   38.   35.   35.   35.   35.   35.   38.   35.   35.   38.   35.\n",
      " 35.   38.   35.   35.   38.   35.   35.   38.   35.   38.   38.   20.72\n",
      " 38.   38.   38.   38.   35.    8.   38.   38.   35.   -2.13 35.   35.\n",
      " 28.   35.   35.   38.   38.   35.   35.    8.   35.   35.    8.   35.\n",
      " 35.   38.   35.   35.   35.   38.   38.   38.   35.   35.   38.   35.\n",
      " 28.   35.   35.   35.   35.   35.   38.   35.   35.   38.   38.   35.\n",
      " 35.   38.   38.   38.   35.   35.   35.   28.   35.   28.   38.   35.\n",
      " 35.   35.   38.   38.   35.   38.   35.   35.   28.   35.   38.   38.\n",
      " 38.   35.   35.   35.   35.   38.   35.   35.   38.   35.   38.   38.\n",
      " 35.   38.   35.   38.   35.   35.   35.   35.   35.   38.   28.   35.\n",
      " 28.   35.   38.   38.   38.   28.   38.   38.   35.   35.   38.   38.\n",
      " 35.   35.   38.   35.   28.   35.   35.    8.   35.   28.   38.   35.\n",
      " 38.   35.   35.   35.   38.   38.   28.   35.   28.   35.   38.   38.\n",
      " 38.   35.   35.   35.   35.   35.   28.   35.   38.   38.   38.   35.\n",
      " 35.   35.   38.   35.   35.   35.   20.   35.   35.   35.   35.   20.32\n",
      " 28.   38.   35.   35.   35.   20.   35.   35.   35.   35.   35.   38.\n",
      " 28.   38.   19.88 35.   35.   38.   35.   28.   35.   38.   35.   35.\n",
      " 38.   35.   38.   35.   35.   38.   35.   35.   35.   38.   38.   35.\n",
      " 35.   28.   38.   38.   38.   28.   35.   35.   35.   38.   35.   28.\n",
      " 35.   28.   35.   10.51 35.   38.   28.   35.   35.   38.   38.   38.\n",
      " 38.   28.   38.   35.    8.   35.   35.   38.   38.   35.   38.   35.\n",
      " 35.   38.   35.   35.   38.   35.   35.   35.   35.   35.   20.   35.\n",
      " 35.   38.   35.   35.   38.   35.   28.   38.   35.   35.   38.   28.\n",
      " 38.   35.   35.   35.   38.   35.   38.   38.   38.   20.   28.   35.\n",
      " 35.   35.   38.   38.   38.   35.   35.   35.   35.   38.   38.   38.\n",
      " 35.    8.   35.   38.   38.   28.   35.   38.   35.   35.   35.   35.\n",
      " 38.   38.   35.   35.   35.   35.   35.   35.   35.   38.   35.   35.\n",
      " 38.   38.   35.   38.   35.   38.   35.   38.   35.   35.   35.   38.\n",
      " 35.   35.   38.   20.4  35.   35.   38.   35.   38.   28.   35.   35.\n",
      " 38.   38.   35.   35.   38.   35.   38.   35.   35.   38.   35.   38.\n",
      " 35.   38.   35.   35.   35.   38.   35.   35.   35.   35.   35.   38.\n",
      " 35.   38.   38.   35.   35.   35.   38.   38.   35.   28.   35.   -2.13\n",
      " 35.   38.   35.   35.   35.   38.   38.   38.   35.   35.   35.   35.\n",
      " 28.   35.   38.    8.   35.   38.   38.   38.   35.   35.   35.   38.\n",
      " 35.   35.   38.   35.   38.   35.   35.   35.   38.   38.   38.   38.\n",
      " 35.   38.   38.   27.84 38.   35.   35.   35.   35.    8.   38.   35.\n",
      "  8.    0.59 35.   38.   35.   35.   38.   35.   38.   35.   20.   35.\n",
      " 38.   35.   35.   28.   35.   38.   35.   35.   28.   38.   38.   35.\n",
      " 35.   38.   35.   38.   35.   35.   35.   38.   38.   38.   35.   38.\n",
      " 38.   38.   35.   38.   38.   35.   38.   35.   38.   38.   38.   35.\n",
      " 38.   35.   35.   35.   38.  ]\n"
     ]
    }
   ],
   "source": [
    "# df1= df\n",
    "\n",
    "# cdfetrzdfdf\n",
    "\n",
    "# del df['days_diff']\n",
    "# del df['difference']\n",
    "# del df['updated_at']\n",
    "# del df['date']\n",
    "# del df['scanner']\n",
    "# del df['id']\n",
    "\n",
    "\n",
    "\n",
    "\n",
    "X = df.drop(labels='survival', axis=1)\n",
    "y = df['survival']\n",
    "\n",
    "X_train, X_test, y_train, y_test = train_test_split(X, y, test_size=0.33, random_state=101)\n",
    "\n",
    "\n",
    "\n",
    "\n",
    "\n",
    "model = RandomForestRegressor()\n",
    "\n",
    "model.fit(X_train,y_train)\n",
    "\n",
    "y_pred = model_RTR.predict(X_test)\n",
    "print(y_pred)"
   ]
  },
  {
   "cell_type": "code",
   "execution_count": null,
   "metadata": {},
   "outputs": [],
   "source": []
  },
  {
   "cell_type": "code",
   "execution_count": null,
   "metadata": {},
   "outputs": [],
   "source": []
  },
  {
   "cell_type": "code",
   "execution_count": 23,
   "metadata": {
    "colab": {
     "base_uri": "https://localhost:8080/"
    },
    "id": "_2CCQQSiha2d",
    "outputId": "622de914-9f42-46c8-dfa8-742faadbb4a6"
   },
   "outputs": [
    {
     "name": "stdout",
     "output_type": "stream",
     "text": [
      "MSE for model 0.8717604130808951\n",
      "R2 score for model 0.9767350747117067\n"
     ]
    }
   ],
   "source": [
    "print('MSE for model',mean_squared_error(y_test,y_pred))\n",
    "print(\"R2 score for model\",r2_score(y_test,y_pred))"
   ]
  },
  {
   "cell_type": "code",
   "execution_count": 24,
   "metadata": {
    "colab": {
     "base_uri": "https://localhost:8080/",
     "height": 286
    },
    "id": "Xtjb_zLRhra8",
    "outputId": "6cc2254d-274c-49cc-cf95-41598ac02998"
   },
   "outputs": [
    {
     "data": {
      "text/plain": [
       "<matplotlib.collections.PathCollection at 0x191e9c012d0>"
      ]
     },
     "execution_count": 24,
     "metadata": {},
     "output_type": "execute_result"
    },
    {
     "data": {
      "image/png": "[encoded data removed]",
      "text/plain": [
       "<Figure size 640x480 with 1 Axes>"
      ]
     },
     "metadata": {},
     "output_type": "display_data"
    }
   ],
   "source": [
    "plt.scatter(x=y_test,y=y_pred)"
   ]
  },
  {
   "cell_type": "code",
   "execution_count": 29,
   "metadata": {
    "id": "4JvTKrQ1-q4w"
   },
   "outputs": [],
   "source": [
    "import pickle"
   ]
  },
  {
   "cell_type": "code",
   "execution_count": 30,
   "metadata": {},
   "outputs": [],
   "source": [
    "filename = 'predictive_maintainance.sav'\n",
    "pickle.dump(model, open('filename', 'wb'))"
   ]
  },
  {
   "cell_type": "code",
   "execution_count": 32,
   "metadata": {},
   "outputs": [],
   "source": [
    "pickle_out = open('predictive_maintainance', 'wb')\n",
    "pickle.dump(model, pickle_out)\n",
    "pickle_out.close()"
   ]
  },
  {
   "cell_type": "code",
   "execution_count": null,
   "metadata": {},
   "outputs": [],
   "source": [
    "# import pandas as pd\n",
    "# import numpy as np\n",
    "# import pickle\n",
    "\n",
    "# # Load the trained model\n",
    "# Lap_model = pickle.load(open('predictive_maintainance', 'rb'))\n",
    "\n",
    "# # Define input data\n",
    "# input_data = [0,110, 1110, 1230, 1230, 0, 0, 330, 0, 440, 0, 10, 10, 0]\n",
    "# input_data_as_numpy_array = np.asarray(input_data)\n",
    "# input_data_reshaped = input_data_as_numpy_array.reshape(1, -1)\n",
    "\n",
    "# # Make predictions\n",
    "# prediction = Lap_model.predict(input_data_reshaped)\n",
    "\n",
    "# # Set threshold\n",
    "# threshold = 0.5\n",
    "# print(prediction)\n",
    "\n",
    "# # Convert to binary prediction\n",
    "# if prediction > threshold:\n",
    "#     print(\"most likely to buy the product\")\n",
    "# else:\n",
    "#     print(\"less chances of buying the product\")\n"
   ]
  }
 ],
 "metadata": {
  "colab": {
   "name": "Predictive Maintenance Assignment.ipynb",
   "provenance": []
  },
  "kernelspec": {
   "display_name": "Python 3 (ipykernel)",
   "language": "python",
   "name": "python3"
  },
  "language_info": {
   "codemirror_mode": {
    "name": "ipython",
    "version": 3
   },
   "file_extension": ".py",
   "mimetype": "text/x-python",
   "name": "python",
   "nbconvert_exporter": "python",
   "pygments_lexer": "ipython3",
   "version": "3.11.5"
  }
 },
 "nbformat": 4,
 "nbformat_minor": 1
}
